{
  "nbformat": 4,
  "nbformat_minor": 0,
  "metadata": {
    "colab": {
      "name": "StockPricePrediction.ipynb",
      "provenance": [],
      "collapsed_sections": [],
      "mount_file_id": "1AWLiK72svgmIxwyjOTkUdkSSWFB32Zb8",
      "authorship_tag": "ABX9TyOE/gXWatDeB/M3yfZ55k0N",
      "include_colab_link": true
    },
    "kernelspec": {
      "name": "python3",
      "display_name": "Python 3"
    }
  },
  "cells": [
    {
      "cell_type": "markdown",
      "metadata": {
        "id": "view-in-github",
        "colab_type": "text"
      },
      "source": [
        "<a href=\"https://colab.research.google.com/github/srijitcnair/StockPricePredictionLSTM/blob/master/StockPricePrediction.ipynb\" target=\"_parent\"><img src=\"https://colab.research.google.com/assets/colab-badge.svg\" alt=\"Open In Colab\"/></a>"
      ]
    },
    {
      "cell_type": "code",
      "metadata": {
        "id": "zlTdQrakrNFm",
        "colab_type": "code",
        "outputId": "9ab4c760-42a3-4251-9c02-19cef60ff51f",
        "colab": {
          "base_uri": "https://localhost:8080/",
          "height": 972
        }
      },
      "source": [
        "#!pip install tensorflow-gpu==2.0.0"
      ],
      "execution_count": 0,
      "outputs": [
        {
          "output_type": "stream",
          "text": [
            "Collecting tensorflow-gpu==2.0.0\n",
            "\u001b[?25l  Downloading https://files.pythonhosted.org/packages/25/44/47f0722aea081697143fbcf5d2aa60d1aee4aaacb5869aee2b568974777b/tensorflow_gpu-2.0.0-cp36-cp36m-manylinux2010_x86_64.whl (380.8MB)\n",
            "\u001b[K     |████████████████████████████████| 380.8MB 38kB/s \n",
            "\u001b[?25hRequirement already satisfied: absl-py>=0.7.0 in /usr/local/lib/python3.6/dist-packages (from tensorflow-gpu==2.0.0) (0.9.0)\n",
            "Requirement already satisfied: google-pasta>=0.1.6 in /usr/local/lib/python3.6/dist-packages (from tensorflow-gpu==2.0.0) (0.1.8)\n",
            "Requirement already satisfied: termcolor>=1.1.0 in /usr/local/lib/python3.6/dist-packages (from tensorflow-gpu==2.0.0) (1.1.0)\n",
            "Requirement already satisfied: astor>=0.6.0 in /usr/local/lib/python3.6/dist-packages (from tensorflow-gpu==2.0.0) (0.8.1)\n",
            "Collecting tensorflow-estimator<2.1.0,>=2.0.0\n",
            "\u001b[?25l  Downloading https://files.pythonhosted.org/packages/fc/08/8b927337b7019c374719145d1dceba21a8bb909b93b1ad6f8fb7d22c1ca1/tensorflow_estimator-2.0.1-py2.py3-none-any.whl (449kB)\n",
            "\u001b[K     |████████████████████████████████| 450kB 47.9MB/s \n",
            "\u001b[?25hRequirement already satisfied: grpcio>=1.8.6 in /usr/local/lib/python3.6/dist-packages (from tensorflow-gpu==2.0.0) (1.27.1)\n",
            "Requirement already satisfied: wheel>=0.26 in /usr/local/lib/python3.6/dist-packages (from tensorflow-gpu==2.0.0) (0.34.2)\n",
            "Requirement already satisfied: keras-preprocessing>=1.0.5 in /usr/local/lib/python3.6/dist-packages (from tensorflow-gpu==2.0.0) (1.1.0)\n",
            "Requirement already satisfied: numpy<2.0,>=1.16.0 in /usr/local/lib/python3.6/dist-packages (from tensorflow-gpu==2.0.0) (1.17.5)\n",
            "Requirement already satisfied: protobuf>=3.6.1 in /usr/local/lib/python3.6/dist-packages (from tensorflow-gpu==2.0.0) (3.10.0)\n",
            "Requirement already satisfied: gast==0.2.2 in /usr/local/lib/python3.6/dist-packages (from tensorflow-gpu==2.0.0) (0.2.2)\n",
            "Requirement already satisfied: opt-einsum>=2.3.2 in /usr/local/lib/python3.6/dist-packages (from tensorflow-gpu==2.0.0) (3.1.0)\n",
            "Requirement already satisfied: six>=1.10.0 in /usr/local/lib/python3.6/dist-packages (from tensorflow-gpu==2.0.0) (1.12.0)\n",
            "Requirement already satisfied: wrapt>=1.11.1 in /usr/local/lib/python3.6/dist-packages (from tensorflow-gpu==2.0.0) (1.11.2)\n",
            "Requirement already satisfied: keras-applications>=1.0.8 in /usr/local/lib/python3.6/dist-packages (from tensorflow-gpu==2.0.0) (1.0.8)\n",
            "Collecting tensorboard<2.1.0,>=2.0.0\n",
            "\u001b[?25l  Downloading https://files.pythonhosted.org/packages/76/54/99b9d5d52d5cb732f099baaaf7740403e83fe6b0cedde940fabd2b13d75a/tensorboard-2.0.2-py3-none-any.whl (3.8MB)\n",
            "\u001b[K     |████████████████████████████████| 3.8MB 48.2MB/s \n",
            "\u001b[?25hRequirement already satisfied: setuptools in /usr/local/lib/python3.6/dist-packages (from protobuf>=3.6.1->tensorflow-gpu==2.0.0) (45.1.0)\n",
            "Requirement already satisfied: h5py in /usr/local/lib/python3.6/dist-packages (from keras-applications>=1.0.8->tensorflow-gpu==2.0.0) (2.8.0)\n",
            "Requirement already satisfied: markdown>=2.6.8 in /usr/local/lib/python3.6/dist-packages (from tensorboard<2.1.0,>=2.0.0->tensorflow-gpu==2.0.0) (3.2.1)\n",
            "Requirement already satisfied: google-auth<2,>=1.6.3 in /usr/local/lib/python3.6/dist-packages (from tensorboard<2.1.0,>=2.0.0->tensorflow-gpu==2.0.0) (1.7.2)\n",
            "Requirement already satisfied: requests<3,>=2.21.0 in /usr/local/lib/python3.6/dist-packages (from tensorboard<2.1.0,>=2.0.0->tensorflow-gpu==2.0.0) (2.21.0)\n",
            "Requirement already satisfied: google-auth-oauthlib<0.5,>=0.4.1 in /usr/local/lib/python3.6/dist-packages (from tensorboard<2.1.0,>=2.0.0->tensorflow-gpu==2.0.0) (0.4.1)\n",
            "Requirement already satisfied: werkzeug>=0.11.15 in /usr/local/lib/python3.6/dist-packages (from tensorboard<2.1.0,>=2.0.0->tensorflow-gpu==2.0.0) (1.0.0)\n",
            "Requirement already satisfied: rsa<4.1,>=3.1.4 in /usr/local/lib/python3.6/dist-packages (from google-auth<2,>=1.6.3->tensorboard<2.1.0,>=2.0.0->tensorflow-gpu==2.0.0) (4.0)\n",
            "Requirement already satisfied: cachetools<3.2,>=2.0.0 in /usr/local/lib/python3.6/dist-packages (from google-auth<2,>=1.6.3->tensorboard<2.1.0,>=2.0.0->tensorflow-gpu==2.0.0) (3.1.1)\n",
            "Requirement already satisfied: pyasn1-modules>=0.2.1 in /usr/local/lib/python3.6/dist-packages (from google-auth<2,>=1.6.3->tensorboard<2.1.0,>=2.0.0->tensorflow-gpu==2.0.0) (0.2.8)\n",
            "Requirement already satisfied: chardet<3.1.0,>=3.0.2 in /usr/local/lib/python3.6/dist-packages (from requests<3,>=2.21.0->tensorboard<2.1.0,>=2.0.0->tensorflow-gpu==2.0.0) (3.0.4)\n",
            "Requirement already satisfied: idna<2.9,>=2.5 in /usr/local/lib/python3.6/dist-packages (from requests<3,>=2.21.0->tensorboard<2.1.0,>=2.0.0->tensorflow-gpu==2.0.0) (2.8)\n",
            "Requirement already satisfied: certifi>=2017.4.17 in /usr/local/lib/python3.6/dist-packages (from requests<3,>=2.21.0->tensorboard<2.1.0,>=2.0.0->tensorflow-gpu==2.0.0) (2019.11.28)\n",
            "Requirement already satisfied: urllib3<1.25,>=1.21.1 in /usr/local/lib/python3.6/dist-packages (from requests<3,>=2.21.0->tensorboard<2.1.0,>=2.0.0->tensorflow-gpu==2.0.0) (1.24.3)\n",
            "Requirement already satisfied: requests-oauthlib>=0.7.0 in /usr/local/lib/python3.6/dist-packages (from google-auth-oauthlib<0.5,>=0.4.1->tensorboard<2.1.0,>=2.0.0->tensorflow-gpu==2.0.0) (1.3.0)\n",
            "Requirement already satisfied: pyasn1>=0.1.3 in /usr/local/lib/python3.6/dist-packages (from rsa<4.1,>=3.1.4->google-auth<2,>=1.6.3->tensorboard<2.1.0,>=2.0.0->tensorflow-gpu==2.0.0) (0.4.8)\n",
            "Requirement already satisfied: oauthlib>=3.0.0 in /usr/local/lib/python3.6/dist-packages (from requests-oauthlib>=0.7.0->google-auth-oauthlib<0.5,>=0.4.1->tensorboard<2.1.0,>=2.0.0->tensorflow-gpu==2.0.0) (3.1.0)\n",
            "\u001b[31mERROR: tensorflow 1.15.0 has requirement tensorboard<1.16.0,>=1.15.0, but you'll have tensorboard 2.0.2 which is incompatible.\u001b[0m\n",
            "\u001b[31mERROR: tensorflow 1.15.0 has requirement tensorflow-estimator==1.15.1, but you'll have tensorflow-estimator 2.0.1 which is incompatible.\u001b[0m\n",
            "Installing collected packages: tensorflow-estimator, tensorboard, tensorflow-gpu\n",
            "  Found existing installation: tensorflow-estimator 1.15.1\n",
            "    Uninstalling tensorflow-estimator-1.15.1:\n",
            "      Successfully uninstalled tensorflow-estimator-1.15.1\n",
            "  Found existing installation: tensorboard 1.15.0\n",
            "    Uninstalling tensorboard-1.15.0:\n",
            "      Successfully uninstalled tensorboard-1.15.0\n",
            "Successfully installed tensorboard-2.0.2 tensorflow-estimator-2.0.1 tensorflow-gpu-2.0.0\n"
          ],
          "name": "stdout"
        },
        {
          "output_type": "display_data",
          "data": {
            "application/vnd.colab-display-data+json": {
              "pip_warning": {
                "packages": [
                  "tensorboard",
                  "tensorflow",
                  "tensorflow_core",
                  "tensorflow_estimator"
                ]
              }
            }
          },
          "metadata": {
            "tags": []
          }
        }
      ]
    },
    {
      "cell_type": "code",
      "metadata": {
        "id": "b_GdMhhV0hW4",
        "colab_type": "code",
        "colab": {
          "base_uri": "https://localhost:8080/",
          "height": 34
        },
        "outputId": "dfa5eb85-b99c-4d86-de20-542e2f42eb27"
      },
      "source": [
        "import tensorflow as tf\n",
        "from sklearn.preprocessing import MinMaxScaler\n",
        "from sklearn.decomposition import PCA\n",
        "from tensorflow.keras import Sequential\n",
        "from tensorflow.keras.layers import Dense, LSTM, Dropout, Bidirectional\n",
        "from tensorflow.keras.callbacks import EarlyStopping\n",
        "import numpy as np\n",
        "import pandas as pd\n",
        "from os import path\n",
        "\n",
        "import pandas_datareader as dr\n",
        "import matplotlib.pyplot as plt\n",
        "tf.__version__"
      ],
      "execution_count": 1390,
      "outputs": [
        {
          "output_type": "execute_result",
          "data": {
            "text/plain": [
              "'2.0.0'"
            ]
          },
          "metadata": {
            "tags": []
          },
          "execution_count": 1390
        }
      ]
    },
    {
      "cell_type": "code",
      "metadata": {
        "id": "0Rq0YQB1tHgG",
        "colab_type": "code",
        "colab": {
          "base_uri": "https://localhost:8080/",
          "height": 34
        },
        "outputId": "65905e3e-25af-492f-ff79-91681374ac31"
      },
      "source": [
        "from google.colab import drive\n",
        "drive.mount('/content/drive',force_remount=True)\n",
        "rootDataFolder = \"/content/drive/My Drive/Colab Notebooks/StockLSTMData/\""
      ],
      "execution_count": 1391,
      "outputs": [
        {
          "output_type": "stream",
          "text": [
            "Mounted at /content/drive\n"
          ],
          "name": "stdout"
        }
      ]
    },
    {
      "cell_type": "code",
      "metadata": {
        "id": "V_zwtnVW1xUJ",
        "colab_type": "code",
        "colab": {}
      },
      "source": [
        "sp500MemberListFile = rootDataFolder+'sp500_constituents.csv'\n",
        "sp500MemberListFundamentalFile = rootDataFolder+'sp500_constituents_financials.csv'\n",
        "sp500PickleLocation = rootDataFolder+'sp500data.pkl'\n",
        "symbolPriceDataLocation = rootDataFolder+'symbol/'"
      ],
      "execution_count": 0,
      "outputs": []
    },
    {
      "cell_type": "code",
      "metadata": {
        "id": "zTpSAk7800YQ",
        "colab_type": "code",
        "colab": {}
      },
      "source": [
        "def getDailyPrice(ticker, start, end):\n",
        "    print('Fetching data for {}'.format(ticker))\n",
        "    df= dr.get_data_yahoo([ticker], start, end)\n",
        "    df.columns = df.columns.droplevel(1)\n",
        "    #df.reset_index(inplace=True)    \n",
        "    return df"
      ],
      "execution_count": 0,
      "outputs": []
    },
    {
      "cell_type": "code",
      "metadata": {
        "id": "8B_hYVnRchcS",
        "colab_type": "code",
        "colab": {}
      },
      "source": [
        "def getPriceForIndex(ticker, start,end):\n",
        "    return getDailyPrice(ticker,start,end)['Adj Close']"
      ],
      "execution_count": 0,
      "outputs": []
    },
    {
      "cell_type": "code",
      "metadata": {
        "id": "Db_h9HC5qYgT",
        "colab_type": "code",
        "colab": {}
      },
      "source": [
        "def computeMA(df, column, period):\n",
        "  ma = df[column].rolling(window=period).mean()\n",
        "  \n",
        "  for i in range(period):\n",
        "    ma[i:period] = np.mean(df[column][0:i+1])\n",
        "  return ma"
      ],
      "execution_count": 0,
      "outputs": []
    },
    {
      "cell_type": "code",
      "metadata": {
        "id": "RIAC661rOaqE",
        "colab_type": "code",
        "colab": {}
      },
      "source": [
        "def computeBB(df, column, period=20):\n",
        "  sma = df[column].rolling(window=period).mean()\n",
        "  std = df[column].rolling(window=period).std()\n",
        "  for i in range(period):\n",
        "    sma[i:period] = np.mean(df[column][0:i+1])\n",
        "    std[i:period] = np.std(df[column][0:i+1])\n",
        "\n",
        "  upper_band = sma + 2 * std\n",
        "  lower_band = sma - 2 * std\n",
        "  width = 4*std\n",
        "  return (upper_band, lower_band, width, sma)\n"
      ],
      "execution_count": 0,
      "outputs": []
    },
    {
      "cell_type": "code",
      "metadata": {
        "id": "mjaNWlNWeCMC",
        "colab_type": "code",
        "colab": {}
      },
      "source": [
        "def getPriceFeaturesForTicker(ticker,start,end):\n",
        "  tickerPrice = getDailyPrice(ticker,start,end)\n",
        "\n",
        "  #tickerPrice['body'] = tickerPrice['Close']-tickerPrice['Open']\n",
        "  #tickerPrice['pct_change'] = tickerPrice['Adj Close'].pct_change()\n",
        "  #tickerPrice['direction'] = np.where(tickerPrice['pct_change'] > 0, 1, 0)\n",
        "  tickerPrice['range'] = tickerPrice['High']-tickerPrice['Low']\n",
        "  #tickerPrice['Price_SMA_20'] = computeMA(tickerPrice, 'Adj Close', 20)\n",
        "  tickerPrice['Price_SMA_5'] = computeMA(tickerPrice, 'Adj Close', 5)\n",
        "  #tickerPrice['Volume_SMA_20'] = computeMA(tickerPrice, 'Volume', 20)\n",
        "  tickerPrice['Volume_SMA_5'] = computeMA(tickerPrice, 'Volume', 5)\n",
        "\n",
        "  #(_, _, bb_width,_) = computeBB(tickerPrice, 'Adj Close')\n",
        "  #tickerPrice['BB_width']=bb_width\n",
        "\n",
        "  indicesToAdd = ['^GSPC']#,'^VIX']\n",
        "\n",
        "  for indice in indicesToAdd:\n",
        "      indicePrice = getPriceForIndex(indice,start, end)\n",
        "      commonDates = tickerPrice.index.intersection(indicePrice.index)\n",
        "      tickerPrice = tickerPrice.loc[commonDates]\n",
        "      tickerPrice[indice] = indicePrice.loc[commonDates]\n",
        "      #tickerPrice[indice+'_SMA_5'] = computeMA(tickerPrice, indice, 5)\n",
        "\n",
        "  tickerPrice.drop(['High','Low','Open','Close'], axis=1, inplace=True)\n",
        "  tickerPrice.reset_index(inplace=True) \n",
        "\n",
        "  print(f'The columns being returned are {tickerPrice.columns}')\n",
        "  return tickerPrice\n"
      ],
      "execution_count": 0,
      "outputs": []
    },
    {
      "cell_type": "code",
      "metadata": {
        "id": "IaYD2bF_lHEk",
        "colab_type": "code",
        "colab": {}
      },
      "source": [
        "#print(getPriceFeaturesForTicker('AAPL','01/01/2019','01/31/2019').columns)\n"
      ],
      "execution_count": 0,
      "outputs": []
    },
    {
      "cell_type": "code",
      "metadata": {
        "id": "JkWROhJ31FPR",
        "colab_type": "code",
        "colab": {}
      },
      "source": [
        "def readSavedPriceData(ticker):\n",
        "    return pd.read_pickle('{}{}.pkl'.format(symbolPriceDataLocation, ticker))"
      ],
      "execution_count": 0,
      "outputs": []
    },
    {
      "cell_type": "code",
      "metadata": {
        "id": "GfyKJy6f3q53",
        "colab_type": "code",
        "colab": {}
      },
      "source": [
        "def downloadPriceForTickers(tickers, start, end):\n",
        "    successCount = 0\n",
        "    for ticker in tickers:\n",
        "        try:\n",
        "            getPriceFeaturesForTicker(ticker, start, end).to_pickle('{}{}.pkl'.format(symbolPriceDataLocation, ticker))\n",
        "            successCount += 1\n",
        "        except Exception as e:\n",
        "            print('Error {} for symbol {}'.format(e, ticker))\n",
        "\n",
        "    print('Successfully retrieved data for {} stocks'.format(successCount))"
      ],
      "execution_count": 0,
      "outputs": []
    },
    {
      "cell_type": "code",
      "metadata": {
        "id": "90By0Guj4K1d",
        "colab_type": "code",
        "outputId": "55bbdef8-2443-4344-c666-05d4a0e1af48",
        "colab": {
          "base_uri": "https://localhost:8080/",
          "height": 119
        }
      },
      "source": [
        "#getDailyPrice('AAPL','01/01/2019','12/31/2019')\n",
        "start_date = '01/01/2016'\n",
        "end_date = '12/31/2019'\n",
        "train_end_date = '06/01/2019'\n",
        "valid_end_date = '10/01/2019'\n",
        "ticker = 'GOOG'\n",
        "num_lookback_days = 5\n",
        "target_column = 'Adj Close'\n",
        "downloadPriceForTickers([ticker],start_date,end_date)\n",
        "data = readSavedPriceData(ticker)"
      ],
      "execution_count": 1400,
      "outputs": [
        {
          "output_type": "stream",
          "text": [
            "Fetching data for GOOG\n",
            "Fetching data for ^GSPC\n",
            "The columns being returned are Index(['Date', 'Volume', 'Adj Close', 'range', 'Price_SMA_5', 'Volume_SMA_5',\n",
            "       '^GSPC'],\n",
            "      dtype='object', name='Attributes')\n",
            "Successfully retrieved data for 1 stocks\n"
          ],
          "name": "stdout"
        }
      ]
    },
    {
      "cell_type": "code",
      "metadata": {
        "id": "iQiEaiiYIid5",
        "colab_type": "code",
        "colab": {}
      },
      "source": [
        "def applyPCA(ticker_data):\n",
        "  pca = PCA(0.95)\n",
        "  pca.fit(ticker_data)\n",
        "  print(f'Features picked by PCA: {pca.n_components_}')\n",
        "  return pca"
      ],
      "execution_count": 0,
      "outputs": []
    },
    {
      "cell_type": "code",
      "metadata": {
        "id": "b2t6uqAz-whq",
        "colab_type": "code",
        "colab": {}
      },
      "source": [
        "def preprocessAndSplitData(ticker, target_column, train_date_limit, validation_date_limit, sequence_length):\n",
        "  ticker_data = readSavedPriceData(ticker)\n",
        "  \n",
        "  t = ticker_data[target_column]\n",
        "  ticker_data.drop(labels=[target_column], axis=1,inplace = True)\n",
        "  ticker_data.insert(0, target_column, t)\n",
        "\n",
        "  scaler = MinMaxScaler(feature_range=(0,1))\n",
        "\n",
        "  train_data = ticker_data[ticker_data['Date']<train_date_limit].copy()\n",
        "  train_data.drop('Date',axis=1, inplace=True)\n",
        "  train_data = scaler.fit_transform(train_data)\n",
        "  train_data_y = train_data[:,0]\n",
        "  train_data_x = train_data[:, 1:]\n",
        "  #pca = applyPCA(train_data_x)\n",
        "  #train_data_x = pca.transform(train_data_x)\n",
        "\n",
        "  valid_data = ticker_data[(ticker_data['Date']>=train_date_limit) & (ticker_data['Date']<validation_date_limit)].copy()\n",
        "  valid_data.drop('Date',axis=1, inplace=True)\n",
        "  valid_data = scaler.transform(valid_data)\n",
        "  valid_data_y = valid_data[:,0]\n",
        "  valid_data_x = valid_data[:, 1:]\n",
        "  #valid_data_x = pca.transform(valid_data_x)\n",
        "\n",
        "  test_data = ticker_data[ticker_data['Date']>=validation_date_limit].copy()\n",
        "  test_data.drop('Date',axis=1, inplace=True)\n",
        "  test_data = scaler.transform(test_data)\n",
        "  test_data_y = test_data[:,0]\n",
        "  test_data_x = test_data[:, 1:]\n",
        "  #test_data_x = pca.transform(test_data_x)\n",
        "\n",
        "  X_train = []\n",
        "  Y_train = []\n",
        "  for i in range(sequence_length,train_data_x.shape[0]):\n",
        "    X_train.append(np.array(train_data_x[i-sequence_length:i]))\n",
        "    Y_train.append(train_data_y[i])\n",
        "\n",
        "  X_valid = []\n",
        "  Y_valid = []\n",
        "  for i in range(sequence_length,valid_data_x.shape[0]):\n",
        "    X_valid.append(np.array(valid_data_x[i-sequence_length:i]))\n",
        "    Y_valid.append(valid_data_y[i])\n",
        "\n",
        "  X_test = []\n",
        "  Y_test = []\n",
        "  for i in range(sequence_length,test_data_x.shape[0]):\n",
        "    X_test.append(np.array(test_data_x[i-sequence_length:i]))\n",
        "    Y_test.append(test_data_y[i])\n",
        "\n",
        "  X_test = np.array(X_test)\n",
        "  Y_test = np.array(Y_test)\n",
        "\n",
        "  return (X_train, Y_train, X_valid, Y_valid, X_test, Y_test, scaler)\n"
      ],
      "execution_count": 0,
      "outputs": []
    },
    {
      "cell_type": "code",
      "metadata": {
        "id": "bEX4p4WrFX5z",
        "colab_type": "code",
        "colab": {}
      },
      "source": [
        "\n",
        "(X_train, Y_train, X_valid, Y_valid, X_test, Y_test, scaler) = preprocessAndSplitData(ticker,target_column,train_end_date, valid_end_date,num_lookback_days)"
      ],
      "execution_count": 0,
      "outputs": []
    },
    {
      "cell_type": "markdown",
      "metadata": {
        "id": "n8lDGmwFEI3Y",
        "colab_type": "text"
      },
      "source": [
        ""
      ]
    },
    {
      "cell_type": "code",
      "metadata": {
        "id": "Owg4NUCMpNmR",
        "colab_type": "code",
        "outputId": "6962d9b3-0e84-46a3-8d03-0edde3be7bbf",
        "colab": {
          "base_uri": "https://localhost:8080/",
          "height": 170
        }
      },
      "source": [
        "print('{},{},{}'.format(len(X_train), len(X_train[0]),len(X_train[0][0])))\n",
        "print(len(Y_train))\n",
        "print('--------------------')\n",
        "print('{},{},{}'.format(len(X_valid), len(X_valid[0]),len(X_valid[0][0])))\n",
        "print(len(Y_valid))\n",
        "print('--------------------')\n",
        "print('{},{},{}'.format(len(X_test), len(X_test[0]),len(X_test[0][0])))\n",
        "print(len(Y_test))\n",
        "print('--------------------')"
      ],
      "execution_count": 1404,
      "outputs": [
        {
          "output_type": "stream",
          "text": [
            "853,5,5\n",
            "853\n",
            "--------------------\n",
            "79,5,5\n",
            "79\n",
            "--------------------\n",
            "59,5,5\n",
            "59\n",
            "--------------------\n"
          ],
          "name": "stdout"
        }
      ]
    },
    {
      "cell_type": "code",
      "metadata": {
        "id": "KPQzI6wqmEHa",
        "colab_type": "code",
        "colab": {}
      },
      "source": [
        "train_data_batch = tf.data.Dataset.from_tensor_slices((X_train, Y_train))\n",
        "train_data_batch = train_data_batch.cache().shuffle(buffer_size).batch(batch_size).repeat()\n",
        "\n",
        "val_data_batch = tf.data.Dataset.from_tensor_slices((X_valid, Y_valid))\n",
        "val_data_batch = val_data_batch.batch(batch_size).repeat()\n",
        "\n",
        "test_data_batch = tf.data.Dataset.from_tensor_slices((X_test, Y_test))\n",
        "test_data_batch = test_data_batch.batch(batch_size).repeat()\n",
        "\n",
        "num_features = len(X_train[0][0])\n",
        "batch_size = 100\n",
        "buffer_size = 10000\n"
      ],
      "execution_count": 0,
      "outputs": []
    },
    {
      "cell_type": "code",
      "metadata": {
        "id": "dwAG7Yul4Tfb",
        "colab_type": "code",
        "colab": {}
      },
      "source": [
        "model = Sequential(\n",
        "    [\n",
        "      Bidirectional(LSTM(units=256, return_sequences=True)),      \n",
        "      Bidirectional(LSTM(units=128)),\n",
        "      Dense(units=64, activation='relu'),\n",
        "      Dropout(0.5),\n",
        "      Dense(units=1, activation='relu')\n",
        "    ]\n",
        ")\n",
        "\n",
        "model.build(input_shape=[batch_size, num_lookback_days,num_features])\n",
        "\n",
        "#model.add(Dropout(0.2))\n",
        "\n",
        "#model.add(LSTM(units=128,return_sequences=True))\n",
        "#model.add(Dropout(0.2))\n",
        "\n",
        "#model.add(LSTM(units=5))\n",
        "#model.add(Dropout(0.2))\n",
        "\n",
        "#model.add(LSTM(units=24, activation='relu'))\n",
        "#model.add(Dropout(0.4))\n",
        "\n",
        "#model.add(LSTM(units=128, activation='relu'))\n",
        "#model.add(Dropout(0.4))\n",
        "\n",
        "#model.add(Dense(units=32, activation='relu'))\n",
        "\n"
      ],
      "execution_count": 0,
      "outputs": []
    },
    {
      "cell_type": "code",
      "metadata": {
        "id": "3OvRnMkGlVNr",
        "colab_type": "code",
        "colab": {}
      },
      "source": [
        "#optimizer = tf.keras.optimizers.RMSprop(0.001)\n",
        "optimizer = tf.keras.optimizers.Adam(learning_rate=0.001)\n",
        "loss = tf.keras.losses.MeanSquaredError()\n",
        "#loss = tf.keras.losses.BinaryCrossentropy(from_logits=True)\n",
        "\n",
        "model.compile(optimizer=optimizer, loss=loss)"
      ],
      "execution_count": 0,
      "outputs": []
    },
    {
      "cell_type": "code",
      "metadata": {
        "id": "2ZyOR-83EF7s",
        "colab_type": "code",
        "outputId": "e02844e6-c323-4d88-9396-f6a2ffd0589f",
        "colab": {
          "base_uri": "https://localhost:8080/",
          "height": 323
        }
      },
      "source": [
        "model.summary()\n"
      ],
      "execution_count": 1408,
      "outputs": [
        {
          "output_type": "stream",
          "text": [
            "Model: \"sequential_112\"\n",
            "_________________________________________________________________\n",
            "Layer (type)                 Output Shape              Param #   \n",
            "=================================================================\n",
            "bidirectional_20 (Bidirectio multiple                  536576    \n",
            "_________________________________________________________________\n",
            "bidirectional_21 (Bidirectio multiple                  656384    \n",
            "_________________________________________________________________\n",
            "dense_170 (Dense)            multiple                  16448     \n",
            "_________________________________________________________________\n",
            "dropout_192 (Dropout)        multiple                  0         \n",
            "_________________________________________________________________\n",
            "dense_171 (Dense)            multiple                  65        \n",
            "=================================================================\n",
            "Total params: 1,209,473\n",
            "Trainable params: 1,209,473\n",
            "Non-trainable params: 0\n",
            "_________________________________________________________________\n"
          ],
          "name": "stdout"
        }
      ]
    },
    {
      "cell_type": "code",
      "metadata": {
        "id": "sdlRI7-Tn_uJ",
        "colab_type": "code",
        "outputId": "a60d1c32-4fc6-47f2-e09e-d9b607d23e12",
        "colab": {
          "base_uri": "https://localhost:8080/",
          "height": 51
        }
      },
      "source": [
        "for x, y in test_data_batch.take(1):\n",
        "  print(x.shape)\n",
        "  print(model.predict(x).shape)"
      ],
      "execution_count": 1409,
      "outputs": [
        {
          "output_type": "stream",
          "text": [
            "(59, 5, 5)\n",
            "(59, 1)\n"
          ],
          "name": "stdout"
        }
      ]
    },
    {
      "cell_type": "code",
      "metadata": {
        "id": "EGgeTQQyoUYJ",
        "colab_type": "code",
        "outputId": "de3f9261-9745-4c7d-c49c-62bee279ee75",
        "colab": {
          "base_uri": "https://localhost:8080/",
          "height": 663
        }
      },
      "source": [
        "epochs = 100\n",
        "evaluation_interval = 50\n",
        "es_callback = EarlyStopping(monitor='val_loss', patience=10)\n",
        "model.fit(train_data_batch, epochs=epochs,\n",
        "          steps_per_epoch=evaluation_interval,\n",
        "          validation_data=val_data_batch,          \n",
        "          validation_steps=evaluation_interval,callbacks=[es_callback])"
      ],
      "execution_count": 1410,
      "outputs": [
        {
          "output_type": "stream",
          "text": [
            "Train for 50 steps, validate for 50 steps\n",
            "Epoch 1/100\n",
            "50/50 [==============================] - 29s 575ms/step - loss: 0.0305 - val_loss: 0.0034\n",
            "Epoch 2/100\n",
            "50/50 [==============================] - 12s 233ms/step - loss: 0.0135 - val_loss: 0.0032\n",
            "Epoch 3/100\n",
            "50/50 [==============================] - 12s 232ms/step - loss: 0.0139 - val_loss: 0.0043\n",
            "Epoch 4/100\n",
            "50/50 [==============================] - 12s 231ms/step - loss: 0.0125 - val_loss: 0.0036\n",
            "Epoch 5/100\n",
            "50/50 [==============================] - 12s 236ms/step - loss: 0.0113 - val_loss: 0.0019\n",
            "Epoch 6/100\n",
            "50/50 [==============================] - 12s 233ms/step - loss: 0.0109 - val_loss: 0.0024\n",
            "Epoch 7/100\n",
            "50/50 [==============================] - 12s 232ms/step - loss: 0.0098 - val_loss: 0.0022\n",
            "Epoch 8/100\n",
            "50/50 [==============================] - 12s 231ms/step - loss: 0.0096 - val_loss: 0.0018\n",
            "Epoch 9/100\n",
            "50/50 [==============================] - 11s 210ms/step - loss: 0.0089 - val_loss: 0.0030\n",
            "Epoch 10/100\n",
            "50/50 [==============================] - 11s 225ms/step - loss: 0.0084 - val_loss: 0.0021\n",
            "Epoch 11/100\n",
            "50/50 [==============================] - 12s 230ms/step - loss: 0.0075 - val_loss: 0.0022\n",
            "Epoch 12/100\n",
            "50/50 [==============================] - 12s 233ms/step - loss: 0.0073 - val_loss: 0.0019\n",
            "Epoch 13/100\n",
            "50/50 [==============================] - 11s 230ms/step - loss: 0.0070 - val_loss: 0.0032\n",
            "Epoch 14/100\n",
            "50/50 [==============================] - 12s 233ms/step - loss: 0.0069 - val_loss: 0.0027\n",
            "Epoch 15/100\n",
            "50/50 [==============================] - 12s 231ms/step - loss: 0.0062 - val_loss: 0.0020\n",
            "Epoch 16/100\n",
            "50/50 [==============================] - 12s 233ms/step - loss: 0.0062 - val_loss: 0.0039\n",
            "Epoch 17/100\n",
            "50/50 [==============================] - 11s 213ms/step - loss: 0.0053 - val_loss: 0.0020\n",
            "Epoch 18/100\n",
            "50/50 [==============================] - 11s 219ms/step - loss: 0.0052 - val_loss: 0.0018\n"
          ],
          "name": "stdout"
        },
        {
          "output_type": "execute_result",
          "data": {
            "text/plain": [
              "<tensorflow.python.keras.callbacks.History at 0x7f18dafcc240>"
            ]
          },
          "metadata": {
            "tags": []
          },
          "execution_count": 1410
        }
      ]
    },
    {
      "cell_type": "code",
      "metadata": {
        "id": "o_rdSB4rrDit",
        "colab_type": "code",
        "outputId": "027e1b93-dae6-4f91-a38d-f51234600823",
        "colab": {
          "base_uri": "https://localhost:8080/",
          "height": 187
        }
      },
      "source": [
        "Y_pred = model.predict(X_test) * (1/scaler.scale_[0])\n",
        "Y_pred[0:10]"
      ],
      "execution_count": 1411,
      "outputs": [
        {
          "output_type": "execute_result",
          "data": {
            "text/plain": [
              "array([[538.12866],\n",
              "       [534.9872 ],\n",
              "       [538.6136 ],\n",
              "       [538.1099 ],\n",
              "       [538.3141 ],\n",
              "       [542.35657],\n",
              "       [539.4257 ],\n",
              "       [548.5351 ],\n",
              "       [557.8157 ],\n",
              "       [562.656  ]], dtype=float32)"
            ]
          },
          "metadata": {
            "tags": []
          },
          "execution_count": 1411
        }
      ]
    },
    {
      "cell_type": "code",
      "metadata": {
        "id": "6EzdE73APEdy",
        "colab_type": "code",
        "outputId": "328dd453-1883-41c7-b0aa-c10f7b217582",
        "colab": {
          "base_uri": "https://localhost:8080/",
          "height": 187
        }
      },
      "source": [
        "Y_test_scaled = Y_test.reshape(-1, 1) * (1/scaler.scale_[0])\n",
        "Y_test_scaled[0:10]"
      ],
      "execution_count": 1412,
      "outputs": [
        {
          "output_type": "execute_result",
          "data": {
            "text/plain": [
              "array([[520.86999512],\n",
              "       [534.05004883],\n",
              "       [540.41003418],\n",
              "       [547.18994141],\n",
              "       [548.88000488],\n",
              "       [574.75      ],\n",
              "       [575.38000488],\n",
              "       [584.80993652],\n",
              "       [577.22998047],\n",
              "       [577.89001465]])"
            ]
          },
          "metadata": {
            "tags": []
          },
          "execution_count": 1412
        }
      ]
    },
    {
      "cell_type": "code",
      "metadata": {
        "id": "qt5c8-4aKS4Q",
        "colab_type": "code",
        "outputId": "b1d59c7e-9ed5-44ea-aa71-c84d1a9cfb43",
        "colab": {
          "base_uri": "https://localhost:8080/",
          "height": 336
        }
      },
      "source": [
        "fig = plt.figure(figsize=(14,5))\n",
        "plt.plot(Y_test_scaled, color = 'red', label = 'Real Price')\n",
        "plt.plot(Y_pred, color = 'blue', label = 'Predicted Price')\n",
        "\n",
        "ax = fig.gca()\n",
        "ax.set_xticks(np.arange(0, 60, 1))\n",
        "plt.xlabel('Time')\n",
        "plt.ylabel('Price')\n",
        "plt.legend()\n",
        "plt.grid()\n",
        "plt.show()"
      ],
      "execution_count": 1413,
      "outputs": [
        {
          "output_type": "display_data",
          "data": {
            "image/png": "[encoded data removed]",
            "text/plain": [
              "<Figure size 1008x360 with 1 Axes>"
            ]
          },
          "metadata": {
            "tags": []
          }
        }
      ]
    },
    {
      "cell_type": "code",
      "metadata": {
        "id": "v-DEVe5bPTGs",
        "colab_type": "code",
        "colab": {}
      },
      "source": [
        ""
      ],
      "execution_count": 0,
      "outputs": []
    }
  ]
}